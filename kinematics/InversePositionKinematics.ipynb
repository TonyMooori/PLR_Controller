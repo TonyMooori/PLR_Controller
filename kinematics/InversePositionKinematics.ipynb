{
 "cells": [
  {
   "cell_type": "code",
   "execution_count": 1,
   "metadata": {
    "collapsed": false
   },
   "outputs": [],
   "source": [
    "import numpy as np\n",
    "from mpl_toolkits.mplot3d import Axes3D\n",
    "import matplotlib.pyplot as plt\n",
    "from sympy import *\n",
    "from sympy.abc import *\n",
    "\n",
    "init_printing()"
   ]
  },
  {
   "cell_type": "code",
   "execution_count": 2,
   "metadata": {
    "collapsed": false
   },
   "outputs": [],
   "source": [
    "# 単位ベクトルとか角度の定義\n",
    "angles = symbols(\"phi_0 phi_1 phi_2\")# 原点から肩部への方向を表す角度\n",
    "thetas = symbols(\"theta_0 theta_1 theta_2\")# モーターの角度(±90deg)\n",
    "unit_vectors = [Matrix([cos(angles[i]),sin(angles[i]),0]) for i in range(3)]\n",
    "ez = Matrix([0,0,1])"
   ]
  },
  {
   "cell_type": "code",
   "execution_count": 3,
   "metadata": {
    "collapsed": false
   },
   "outputs": [],
   "source": [
    "# パラメータ(実数)\n",
    "params = [(A,130.0),(B,200.0),(C,400.0),(D,130.0)]\n",
    "params.append((angles[0],2.0*np.pi/3.0*0))\n",
    "params.append((angles[1],2.0*np.pi/3.0*1))\n",
    "params.append((angles[2],2.0*np.pi/3.0*2))\n",
    "params.append((x,0))\n",
    "params.append((y,0))\n",
    "params.append((z,400))"
   ]
  },
  {
   "cell_type": "code",
   "execution_count": 4,
   "metadata": {
    "collapsed": false
   },
   "outputs": [],
   "source": [
    "# 各座標の計算\n",
    "A_vectors = map(lambda x: A*x,unit_vectors)\n",
    "B_vectors = [A_vectors[i] + B*(unit_vectors[i] * cos(thetas[i])-ez*sin(thetas[i]) ) for i in range(3)]\n",
    "D_vector = Matrix([x,y,z])\n",
    "C_vectors = [D_vector + D * unit_vectors[i] for i in range(3)]"
   ]
  },
  {
   "cell_type": "code",
   "execution_count": 5,
   "metadata": {
    "collapsed": false
   },
   "outputs": [
    {
     "data": {
      "text/latex": [
       "$$\\left [ \\left[\\begin{matrix}A \\cos{\\left (\\phi_{0} \\right )}\\\\A \\sin{\\left (\\phi_{0} \\right )}\\\\0\\end{matrix}\\right], \\quad \\left[\\begin{matrix}A \\cos{\\left (\\phi_{1} \\right )}\\\\A \\sin{\\left (\\phi_{1} \\right )}\\\\0\\end{matrix}\\right], \\quad \\left[\\begin{matrix}A \\cos{\\left (\\phi_{2} \\right )}\\\\A \\sin{\\left (\\phi_{2} \\right )}\\\\0\\end{matrix}\\right]\\right ]$$"
      ],
      "text/plain": [
       "⎡⎡A⋅cos(φ₀)⎤, ⎡A⋅cos(φ₁)⎤, ⎡A⋅cos(φ₂)⎤⎤\n",
       "⎢⎢         ⎥  ⎢         ⎥  ⎢         ⎥⎥\n",
       "⎢⎢A⋅sin(φ₀)⎥  ⎢A⋅sin(φ₁)⎥  ⎢A⋅sin(φ₂)⎥⎥\n",
       "⎢⎢         ⎥  ⎢         ⎥  ⎢         ⎥⎥\n",
       "⎣⎣    0    ⎦  ⎣    0    ⎦  ⎣    0    ⎦⎦"
      ]
     },
     "execution_count": 5,
     "metadata": {},
     "output_type": "execute_result"
    }
   ],
   "source": [
    "# モーターのある位置の座標．肩っぽい部分の座標．\n",
    "A_vectors"
   ]
  },
  {
   "cell_type": "code",
   "execution_count": 6,
   "metadata": {
    "collapsed": false
   },
   "outputs": [
    {
     "data": {
      "text/latex": [
       "$$\\left [ \\left[\\begin{matrix}A \\cos{\\left (\\phi_{0} \\right )} + B \\cos{\\left (\\phi_{0} \\right )} \\cos{\\left (\\theta_{0} \\right )}\\\\A \\sin{\\left (\\phi_{0} \\right )} + B \\sin{\\left (\\phi_{0} \\right )} \\cos{\\left (\\theta_{0} \\right )}\\\\- B \\sin{\\left (\\theta_{0} \\right )}\\end{matrix}\\right], \\quad \\left[\\begin{matrix}A \\cos{\\left (\\phi_{1} \\right )} + B \\cos{\\left (\\phi_{1} \\right )} \\cos{\\left (\\theta_{1} \\right )}\\\\A \\sin{\\left (\\phi_{1} \\right )} + B \\sin{\\left (\\phi_{1} \\right )} \\cos{\\left (\\theta_{1} \\right )}\\\\- B \\sin{\\left (\\theta_{1} \\right )}\\end{matrix}\\right], \\quad \\left[\\begin{matrix}A \\cos{\\left (\\phi_{2} \\right )} + B \\cos{\\left (\\phi_{2} \\right )} \\cos{\\left (\\theta_{2} \\right )}\\\\A \\sin{\\left (\\phi_{2} \\right )} + B \\sin{\\left (\\phi_{2} \\right )} \\cos{\\left (\\theta_{2} \\right )}\\\\- B \\sin{\\left (\\theta_{2} \\right )}\\end{matrix}\\right]\\right ]$$"
      ],
      "text/plain": [
       "⎡⎡A⋅cos(φ₀) + B⋅cos(φ₀)⋅cos(θ₀)⎤, ⎡A⋅cos(φ₁) + B⋅cos(φ₁)⋅cos(θ₁)⎤, ⎡A⋅cos(φ₂) \n",
       "⎢⎢                             ⎥  ⎢                             ⎥  ⎢          \n",
       "⎢⎢A⋅sin(φ₀) + B⋅sin(φ₀)⋅cos(θ₀)⎥  ⎢A⋅sin(φ₁) + B⋅sin(φ₁)⋅cos(θ₁)⎥  ⎢A⋅sin(φ₂) \n",
       "⎢⎢                             ⎥  ⎢                             ⎥  ⎢          \n",
       "⎣⎣         -B⋅sin(θ₀)          ⎦  ⎣         -B⋅sin(θ₁)          ⎦  ⎣         -\n",
       "\n",
       "+ B⋅cos(φ₂)⋅cos(θ₂)⎤⎤\n",
       "                   ⎥⎥\n",
       "+ B⋅sin(φ₂)⋅cos(θ₂)⎥⎥\n",
       "                   ⎥⎥\n",
       "B⋅sin(θ₂)          ⎦⎦"
      ]
     },
     "execution_count": 6,
     "metadata": {},
     "output_type": "execute_result"
    }
   ],
   "source": [
    "# 腕の中央の関節．肘っぽい部分の座標\n",
    "B_vectors"
   ]
  },
  {
   "cell_type": "code",
   "execution_count": 7,
   "metadata": {
    "collapsed": false
   },
   "outputs": [
    {
     "data": {
      "text/latex": [
       "$$\\left [ \\left[\\begin{matrix}D \\cos{\\left (\\phi_{0} \\right )} + x\\\\D \\sin{\\left (\\phi_{0} \\right )} + y\\\\z\\end{matrix}\\right], \\quad \\left[\\begin{matrix}D \\cos{\\left (\\phi_{1} \\right )} + x\\\\D \\sin{\\left (\\phi_{1} \\right )} + y\\\\z\\end{matrix}\\right], \\quad \\left[\\begin{matrix}D \\cos{\\left (\\phi_{2} \\right )} + x\\\\D \\sin{\\left (\\phi_{2} \\right )} + y\\\\z\\end{matrix}\\right]\\right ]$$"
      ],
      "text/plain": [
       "⎡⎡D⋅cos(φ₀) + x⎤, ⎡D⋅cos(φ₁) + x⎤, ⎡D⋅cos(φ₂) + x⎤⎤\n",
       "⎢⎢             ⎥  ⎢             ⎥  ⎢             ⎥⎥\n",
       "⎢⎢D⋅sin(φ₀) + y⎥  ⎢D⋅sin(φ₁) + y⎥  ⎢D⋅sin(φ₂) + y⎥⎥\n",
       "⎢⎢             ⎥  ⎢             ⎥  ⎢             ⎥⎥\n",
       "⎣⎣      z      ⎦  ⎣      z      ⎦  ⎣      z      ⎦⎦"
      ]
     },
     "execution_count": 7,
     "metadata": {},
     "output_type": "execute_result"
    }
   ],
   "source": [
    "# 下部の接続部分の座標．手首みたいな場所，\n",
    "C_vectors"
   ]
  },
  {
   "cell_type": "code",
   "execution_count": 8,
   "metadata": {
    "collapsed": false
   },
   "outputs": [
    {
     "data": {
      "text/latex": [
       "$$\\left[\\begin{matrix}x\\\\y\\\\z\\end{matrix}\\right]$$"
      ],
      "text/plain": [
       "⎡x⎤\n",
       "⎢ ⎥\n",
       "⎢y⎥\n",
       "⎢ ⎥\n",
       "⎣z⎦"
      ]
     },
     "execution_count": 8,
     "metadata": {},
     "output_type": "execute_result"
    }
   ],
   "source": [
    "# 下部の中央部分の座標．\n",
    "D_vector"
   ]
  },
  {
   "cell_type": "code",
   "execution_count": 9,
   "metadata": {
    "collapsed": true
   },
   "outputs": [],
   "source": [
    "def norm2(x):\n",
    "    \"\"\" 3次元ベクトルxのノルムの2乗を計算する関数 \"\"\"\n",
    "    return x[0]*x[0]+x[1]*x[1]+x[2]*x[2]"
   ]
  },
  {
   "cell_type": "code",
   "execution_count": 10,
   "metadata": {
    "collapsed": false
   },
   "outputs": [
    {
     "data": {
      "image/png": "[encoded data removed]",
      "text/latex": [
       "$$- A^{2} - 2 A B \\cos{\\left (\\theta_{0} \\right )} + 2 A D + 2 A x \\cos{\\left (\\phi_{0} \\right )} + 2 A y \\sin{\\left (\\phi_{0} \\right )} - B^{2} + 2 B D \\cos{\\left (\\theta_{0} \\right )} + 2 B x \\cos{\\left (\\phi_{0} \\right )} \\cos{\\left (\\theta_{0} \\right )} + 2 B y \\sin{\\left (\\phi_{0} \\right )} \\cos{\\left (\\theta_{0} \\right )} - 2 B z \\sin{\\left (\\theta_{0} \\right )} + C^{2} - D^{2} - 2 D x \\cos{\\left (\\phi_{0} \\right )} - 2 D y \\sin{\\left (\\phi_{0} \\right )} - x^{2} - y^{2} - z^{2}$$"
      ],
      "text/plain": [
       "   2                                                            2             \n",
       "- A  - 2⋅A⋅B⋅cos(θ₀) + 2⋅A⋅D + 2⋅A⋅x⋅cos(φ₀) + 2⋅A⋅y⋅sin(φ₀) - B  + 2⋅B⋅D⋅cos(\n",
       "\n",
       "                                                                       2    2 \n",
       "θ₀) + 2⋅B⋅x⋅cos(φ₀)⋅cos(θ₀) + 2⋅B⋅y⋅sin(φ₀)⋅cos(θ₀) - 2⋅B⋅z⋅sin(θ₀) + C  - D  \n",
       "\n",
       "                                   2    2    2\n",
       "- 2⋅D⋅x⋅cos(φ₀) - 2⋅D⋅y⋅sin(φ₀) - x  - y  - z "
      ]
     },
     "execution_count": 10,
     "metadata": {},
     "output_type": "execute_result"
    }
   ],
   "source": [
    "# 肘部分と手首の距離はCとして定義していることから\n",
    "# (C_vectors[0] - Bvectors[0]).norm() - C == 0 となります\n",
    "# ただ標準のnormではうまく計算ができなかったので自作した関数を用いてノルム(の2乗)を計算します\n",
    "eq0 = C**2-norm2((C_vectors[0] - B_vectors[0]))\n",
    "eq0 = expand(eq0)\n",
    "eq0 = simplify(eq0)\n",
    "eq0"
   ]
  },
  {
   "cell_type": "code",
   "execution_count": 11,
   "metadata": {
    "collapsed": false
   },
   "outputs": [
    {
     "data": {
      "image/png": "[encoded data removed]",
      "text/latex": [
       "$$P + Q \\sin{\\left (\\theta_{0} \\right )} + R \\cos{\\left (\\theta_{0} \\right )} = 0$$"
      ],
      "text/plain": [
       "P + Q⋅sin(θ₀) + R⋅cos(θ₀) = 0"
      ]
     },
     "execution_count": 11,
     "metadata": {},
     "output_type": "execute_result"
    }
   ],
   "source": [
    "# 先に P + Q * sin(theta_0) + R * cos(theta_0) = 0 の方程式を考える\n",
    "formula = Eq(P + Q * sin(thetas[0]) + R * cos(thetas[0]),0)\n",
    "formula"
   ]
  },
  {
   "cell_type": "code",
   "execution_count": 12,
   "metadata": {
    "collapsed": false
   },
   "outputs": [],
   "source": [
    "# thetaについての解はこうなる\n",
    "theta_ans = solve(formula,thetas[0])"
   ]
  },
  {
   "cell_type": "code",
   "execution_count": 13,
   "metadata": {
    "collapsed": false
   },
   "outputs": [
    {
     "data": {
      "image/png": "[encoded data removed]",
      "text/latex": [
       "$$- A^{2} - 2 A B \\cos{\\left (\\theta_{0} \\right )} + 2 A D + 2 A x \\cos{\\left (\\phi_{0} \\right )} + 2 A y \\sin{\\left (\\phi_{0} \\right )} - B^{2} + 2 B D \\cos{\\left (\\theta_{0} \\right )} + 2 B x \\cos{\\left (\\phi_{0} \\right )} \\cos{\\left (\\theta_{0} \\right )} + 2 B y \\sin{\\left (\\phi_{0} \\right )} \\cos{\\left (\\theta_{0} \\right )} - 2 B z \\sin{\\left (\\theta_{0} \\right )} + C^{2} - D^{2} - 2 D x \\cos{\\left (\\phi_{0} \\right )} - 2 D y \\sin{\\left (\\phi_{0} \\right )} - x^{2} - y^{2} - z^{2}$$"
      ],
      "text/plain": [
       "   2                                                            2             \n",
       "- A  - 2⋅A⋅B⋅cos(θ₀) + 2⋅A⋅D + 2⋅A⋅x⋅cos(φ₀) + 2⋅A⋅y⋅sin(φ₀) - B  + 2⋅B⋅D⋅cos(\n",
       "\n",
       "                                                                       2    2 \n",
       "θ₀) + 2⋅B⋅x⋅cos(φ₀)⋅cos(θ₀) + 2⋅B⋅y⋅sin(φ₀)⋅cos(θ₀) - 2⋅B⋅z⋅sin(θ₀) + C  - D  \n",
       "\n",
       "                                   2    2    2\n",
       "- 2⋅D⋅x⋅cos(φ₀) - 2⋅D⋅y⋅sin(φ₀) - x  - y  - z "
      ]
     },
     "execution_count": 13,
     "metadata": {},
     "output_type": "execute_result"
    }
   ],
   "source": [
    "# P + Q*sin(theta_0) + R*cos(theta_0) = 0 の形を取り出す\n",
    "Q_dash = eq0.coeff(sin(thetas[0]),1)\n",
    "R_dash = eq0.coeff(cos(thetas[0]),1)\n",
    "P_dash = eq0.coeff(cos(thetas[0]),0) - Q_dash * sin(thetas[0])\n",
    "\n",
    "# P + Q*sin(thetas[0])+R*cos(thetas[0])が上のeq0と同じものであるか確認\n",
    "simplify(expand(P_dash + Q_dash*sin(thetas[0])+R_dash*cos(thetas[0]))) "
   ]
  },
  {
   "cell_type": "code",
   "execution_count": 14,
   "metadata": {
    "collapsed": false
   },
   "outputs": [
    {
     "data": {
      "image/png": "[encoded data removed]",
      "text/latex": [
       "$$- A^{2} + 2 A D + 2 A x \\cos{\\left (\\phi_{0} \\right )} + 2 A y \\sin{\\left (\\phi_{0} \\right )} - B^{2} + C^{2} - D^{2} - 2 D x \\cos{\\left (\\phi_{0} \\right )} - 2 D y \\sin{\\left (\\phi_{0} \\right )} - x^{2} - y^{2} - z^{2}$$"
      ],
      "text/plain": [
       "   2                                            2    2    2                   \n",
       "- A  + 2⋅A⋅D + 2⋅A⋅x⋅cos(φ₀) + 2⋅A⋅y⋅sin(φ₀) - B  + C  - D  - 2⋅D⋅x⋅cos(φ₀) - \n",
       "\n",
       "                 2    2    2\n",
       "2⋅D⋅y⋅sin(φ₀) - x  - y  - z "
      ]
     },
     "execution_count": 14,
     "metadata": {},
     "output_type": "execute_result"
    }
   ],
   "source": [
    "P_dash"
   ]
  },
  {
   "cell_type": "code",
   "execution_count": 15,
   "metadata": {
    "collapsed": false
   },
   "outputs": [
    {
     "data": {
      "image/png": "[encoded data removed]",
      "text/latex": [
       "$$- 2 B z$$"
      ],
      "text/plain": [
       "-2⋅B⋅z"
      ]
     },
     "execution_count": 15,
     "metadata": {},
     "output_type": "execute_result"
    }
   ],
   "source": [
    "Q_dash"
   ]
  },
  {
   "cell_type": "code",
   "execution_count": 16,
   "metadata": {
    "collapsed": false
   },
   "outputs": [
    {
     "data": {
      "image/png": "[encoded data removed]",
      "text/latex": [
       "$$- 2 A B + 2 B D + 2 B x \\cos{\\left (\\phi_{0} \\right )} + 2 B y \\sin{\\left (\\phi_{0} \\right )}$$"
      ],
      "text/plain": [
       "-2⋅A⋅B + 2⋅B⋅D + 2⋅B⋅x⋅cos(φ₀) + 2⋅B⋅y⋅sin(φ₀)"
      ]
     },
     "execution_count": 16,
     "metadata": {},
     "output_type": "execute_result"
    }
   ],
   "source": [
    "R_dash"
   ]
  },
  {
   "cell_type": "code",
   "execution_count": 17,
   "metadata": {
    "collapsed": false
   },
   "outputs": [
    {
     "name": "stdout",
     "output_type": "stream",
     "text": [
      "P = -A**2 + 2*A*D + 2*A*x*cos(phi_0) + 2*A*y*sin(phi_0) - B**2 + C**2 - D**2 - 2*D*x*cos(phi_0) - 2*D*y*sin(phi_0) - x**2 - y**2 - z**2\n",
      "Q = -2*B*z\n",
      "R = -2*A*B + 2*B*D + 2*B*x*cos(phi_0) + 2*B*y*sin(phi_0)\n",
      "theta_0 = -2*atan((Q - sqrt(-P**2 + Q**2 + R**2))/(P - R))\n",
      "theta_1 = -2*atan((Q + sqrt(-P**2 + Q**2 + R**2))/(P - R))\n"
     ]
    }
   ],
   "source": [
    "# Pythonのコードを生成\n",
    "from sympy.printing.lambdarepr import lambdarepr\n",
    "print(\"P = \" + lambdarepr(P_dash))\n",
    "print(\"Q = \" + lambdarepr(Q_dash))\n",
    "print(\"R = \" + lambdarepr(R_dash))\n",
    "print(\"theta_0 = \" + lambdarepr(theta_ans[0]))\n",
    "print(\"theta_1 = \" + lambdarepr(theta_ans[1]))"
   ]
  },
  {
   "cell_type": "code",
   "execution_count": 18,
   "metadata": {
    "collapsed": false
   },
   "outputs": [
    {
     "name": "stdout",
     "output_type": "stream",
     "text": [
      "double P = -pow(A, 2) + 2*A*D + 2*A*x*cos(phi_0) + 2*A*y*sin(phi_0) - pow(B, 2) + pow(C, 2) - pow(D, 2) - 2*D*x*cos(phi_0) - 2*D*y*sin(phi_0) - pow(x, 2) - pow(y, 2) - pow(z, 2);\n",
      "double Q = -2*B*z;\n",
      "double R = -2*A*B + 2*B*D + 2*B*x*cos(phi_0) + 2*B*y*sin(phi_0);\n",
      "double theta_0 = -2*atan((Q - sqrt(-pow(P, 2) + pow(Q, 2) + pow(R, 2)))/(P - R));\n",
      "double theta_1 = -2*atan((Q + sqrt(-pow(P, 2) + pow(Q, 2) + pow(R, 2)))/(P - R));\n"
     ]
    }
   ],
   "source": [
    "# Cのコードを生成\n",
    "float_type = \"double\"\n",
    "print(float_type + \" P = \" + ccode(P_dash) + \";\")\n",
    "print(float_type + \" Q = \" + ccode(Q_dash) + \";\")\n",
    "print(float_type + \" R = \" + ccode(R_dash) + \";\")\n",
    "print(float_type + \" theta_0 = \" + ccode(theta_ans[0]) + \";\")\n",
    "print(float_type + \" theta_1 = \" + ccode(theta_ans[1]) + \";\")"
   ]
  }
 ],
 "metadata": {
  "kernelspec": {
   "display_name": "Python 2",
   "language": "python",
   "name": "python2"
  },
  "language_info": {
   "codemirror_mode": {
    "name": "ipython",
    "version": 2
   },
   "file_extension": ".py",
   "mimetype": "text/x-python",
   "name": "python",
   "nbconvert_exporter": "python",
   "pygments_lexer": "ipython2",
   "version": "2.7.11"
  }
 },
 "nbformat": 4,
 "nbformat_minor": 0
}
