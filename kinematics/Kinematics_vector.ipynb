{
 "cells": [
  {
   "cell_type": "code",
   "execution_count": 143,
   "metadata": {
    "collapsed": false
   },
   "outputs": [],
   "source": [
    "import numpy as np\n",
    "from mpl_toolkits.mplot3d import Axes3D\n",
    "import matplotlib.pyplot as plt\n",
    "from sympy import *\n",
    "from sympy.abc import *\n",
    "\n",
    "init_printing()"
   ]
  },
  {
   "cell_type": "code",
   "execution_count": 144,
   "metadata": {
    "collapsed": false
   },
   "outputs": [],
   "source": [
    "# 単位ベクトルとか角度の定義\n",
    "angles = symbols(\"phi_0 phi_1 phi_2\")# 原点から肩部への方向を表す角度\n",
    "thetas = symbols(\"theta_0 theta_1 theta_2\")# モーターの角度(±90deg)\n",
    "unit_vectors = [Matrix([sin(angles[i]),cos(angles[i]),0]) for i in range(3)]\n",
    "ez = Matrix([0,0,1])"
   ]
  },
  {
   "cell_type": "code",
   "execution_count": 182,
   "metadata": {
    "collapsed": false
   },
   "outputs": [],
   "source": [
    "# パラメータ(実数)\n",
    "params = [(A,130.0),(B,200.0),(C,400.0),(D,130.0)]\n",
    "params.append((angles[0],2.0*np.pi/3.0*0))\n",
    "params.append((angles[1],2.0*np.pi/3.0*1))\n",
    "params.append((angles[2],2.0*np.pi/3.0*2))\n",
    "params.append((x,0))\n",
    "params.append((y,0))\n",
    "params.append((z,400))"
   ]
  },
  {
   "cell_type": "code",
   "execution_count": 146,
   "metadata": {
    "collapsed": false
   },
   "outputs": [],
   "source": [
    "# 各座標の計算\n",
    "A_vectors = map(lambda x: A*x,unit_vectors)\n",
    "B_vectors = [A_vectors[i] + B*(unit_vectors[i] * cos(thetas[i])-ez*sin(thetas[i]) ) for i in range(3)]\n",
    "D_vector = Matrix([x,y,z])\n",
    "C_vectors = [D_vector + D * unit_vectors[i] for i in range(3)]"
   ]
  },
  {
   "cell_type": "code",
   "execution_count": 147,
   "metadata": {
    "collapsed": false
   },
   "outputs": [
    {
     "data": {
      "text/latex": [
       "$$\\left [ \\left[\\begin{matrix}A \\sin{\\left (\\phi_{0} \\right )}\\\\A \\cos{\\left (\\phi_{0} \\right )}\\\\0\\end{matrix}\\right], \\quad \\left[\\begin{matrix}A \\sin{\\left (\\phi_{1} \\right )}\\\\A \\cos{\\left (\\phi_{1} \\right )}\\\\0\\end{matrix}\\right], \\quad \\left[\\begin{matrix}A \\sin{\\left (\\phi_{2} \\right )}\\\\A \\cos{\\left (\\phi_{2} \\right )}\\\\0\\end{matrix}\\right]\\right ]$$"
      ],
      "text/plain": [
       "⎡⎡A⋅sin(φ₀)⎤, ⎡A⋅sin(φ₁)⎤, ⎡A⋅sin(φ₂)⎤⎤\n",
       "⎢⎢         ⎥  ⎢         ⎥  ⎢         ⎥⎥\n",
       "⎢⎢A⋅cos(φ₀)⎥  ⎢A⋅cos(φ₁)⎥  ⎢A⋅cos(φ₂)⎥⎥\n",
       "⎢⎢         ⎥  ⎢         ⎥  ⎢         ⎥⎥\n",
       "⎣⎣    0    ⎦  ⎣    0    ⎦  ⎣    0    ⎦⎦"
      ]
     },
     "execution_count": 147,
     "metadata": {},
     "output_type": "execute_result"
    }
   ],
   "source": [
    "# モーターのある位置の座標．肩っぽい部分の座標．\n",
    "A_vectors"
   ]
  },
  {
   "cell_type": "code",
   "execution_count": 148,
   "metadata": {
    "collapsed": false
   },
   "outputs": [
    {
     "data": {
      "text/latex": [
       "$$\\left [ \\left[\\begin{matrix}A \\sin{\\left (\\phi_{0} \\right )} + B \\sin{\\left (\\phi_{0} \\right )} \\cos{\\left (\\theta_{0} \\right )}\\\\A \\cos{\\left (\\phi_{0} \\right )} + B \\cos{\\left (\\phi_{0} \\right )} \\cos{\\left (\\theta_{0} \\right )}\\\\- B \\sin{\\left (\\theta_{0} \\right )}\\end{matrix}\\right], \\quad \\left[\\begin{matrix}A \\sin{\\left (\\phi_{1} \\right )} + B \\sin{\\left (\\phi_{1} \\right )} \\cos{\\left (\\theta_{1} \\right )}\\\\A \\cos{\\left (\\phi_{1} \\right )} + B \\cos{\\left (\\phi_{1} \\right )} \\cos{\\left (\\theta_{1} \\right )}\\\\- B \\sin{\\left (\\theta_{1} \\right )}\\end{matrix}\\right], \\quad \\left[\\begin{matrix}A \\sin{\\left (\\phi_{2} \\right )} + B \\sin{\\left (\\phi_{2} \\right )} \\cos{\\left (\\theta_{2} \\right )}\\\\A \\cos{\\left (\\phi_{2} \\right )} + B \\cos{\\left (\\phi_{2} \\right )} \\cos{\\left (\\theta_{2} \\right )}\\\\- B \\sin{\\left (\\theta_{2} \\right )}\\end{matrix}\\right]\\right ]$$"
      ],
      "text/plain": [
       "⎡⎡A⋅sin(φ₀) + B⋅sin(φ₀)⋅cos(θ₀)⎤, ⎡A⋅sin(φ₁) + B⋅sin(φ₁)⋅cos(θ₁)⎤, ⎡A⋅sin(φ₂) \n",
       "⎢⎢                             ⎥  ⎢                             ⎥  ⎢          \n",
       "⎢⎢A⋅cos(φ₀) + B⋅cos(φ₀)⋅cos(θ₀)⎥  ⎢A⋅cos(φ₁) + B⋅cos(φ₁)⋅cos(θ₁)⎥  ⎢A⋅cos(φ₂) \n",
       "⎢⎢                             ⎥  ⎢                             ⎥  ⎢          \n",
       "⎣⎣         -B⋅sin(θ₀)          ⎦  ⎣         -B⋅sin(θ₁)          ⎦  ⎣         -\n",
       "\n",
       "+ B⋅sin(φ₂)⋅cos(θ₂)⎤⎤\n",
       "                   ⎥⎥\n",
       "+ B⋅cos(φ₂)⋅cos(θ₂)⎥⎥\n",
       "                   ⎥⎥\n",
       "B⋅sin(θ₂)          ⎦⎦"
      ]
     },
     "execution_count": 148,
     "metadata": {},
     "output_type": "execute_result"
    }
   ],
   "source": [
    "# 腕の中央の関節．肘っぽい部分の座標\n",
    "B_vectors"
   ]
  },
  {
   "cell_type": "code",
   "execution_count": 149,
   "metadata": {
    "collapsed": false
   },
   "outputs": [
    {
     "data": {
      "text/latex": [
       "$$\\left [ \\left[\\begin{matrix}D \\sin{\\left (\\phi_{0} \\right )} + x\\\\D \\cos{\\left (\\phi_{0} \\right )} + y\\\\z\\end{matrix}\\right], \\quad \\left[\\begin{matrix}D \\sin{\\left (\\phi_{1} \\right )} + x\\\\D \\cos{\\left (\\phi_{1} \\right )} + y\\\\z\\end{matrix}\\right], \\quad \\left[\\begin{matrix}D \\sin{\\left (\\phi_{2} \\right )} + x\\\\D \\cos{\\left (\\phi_{2} \\right )} + y\\\\z\\end{matrix}\\right]\\right ]$$"
      ],
      "text/plain": [
       "⎡⎡D⋅sin(φ₀) + x⎤, ⎡D⋅sin(φ₁) + x⎤, ⎡D⋅sin(φ₂) + x⎤⎤\n",
       "⎢⎢             ⎥  ⎢             ⎥  ⎢             ⎥⎥\n",
       "⎢⎢D⋅cos(φ₀) + y⎥  ⎢D⋅cos(φ₁) + y⎥  ⎢D⋅cos(φ₂) + y⎥⎥\n",
       "⎢⎢             ⎥  ⎢             ⎥  ⎢             ⎥⎥\n",
       "⎣⎣      z      ⎦  ⎣      z      ⎦  ⎣      z      ⎦⎦"
      ]
     },
     "execution_count": 149,
     "metadata": {},
     "output_type": "execute_result"
    }
   ],
   "source": [
    "# 下部の接続部分の座標．手首みたいな場所，\n",
    "C_vectors"
   ]
  },
  {
   "cell_type": "code",
   "execution_count": 150,
   "metadata": {
    "collapsed": false
   },
   "outputs": [
    {
     "data": {
      "text/latex": [
       "$$\\left[\\begin{matrix}x\\\\y\\\\z\\end{matrix}\\right]$$"
      ],
      "text/plain": [
       "⎡x⎤\n",
       "⎢ ⎥\n",
       "⎢y⎥\n",
       "⎢ ⎥\n",
       "⎣z⎦"
      ]
     },
     "execution_count": 150,
     "metadata": {},
     "output_type": "execute_result"
    }
   ],
   "source": [
    "# 下部の中央部分の座標．\n",
    "D_vector"
   ]
  },
  {
   "cell_type": "code",
   "execution_count": 151,
   "metadata": {
    "collapsed": true
   },
   "outputs": [],
   "source": [
    "def norm2(x):\n",
    "    \"\"\" 3次元ベクトルxのノルムの2乗を計算する関数 \"\"\"\n",
    "    return x[0]*x[0]+x[1]*x[1]+x[2]*x[2]"
   ]
  },
  {
   "cell_type": "code",
   "execution_count": 152,
   "metadata": {
    "collapsed": false
   },
   "outputs": [
    {
     "data": {
      "image/png": "[encoded data removed]",
      "text/latex": [
       "$$- A^{2} - 2 A B \\cos{\\left (\\theta_{0} \\right )} + 2 A D + 2 A x \\sin{\\left (\\phi_{0} \\right )} + 2 A y \\cos{\\left (\\phi_{0} \\right )} - B^{2} + 2 B D \\cos{\\left (\\theta_{0} \\right )} + 2 B x \\sin{\\left (\\phi_{0} \\right )} \\cos{\\left (\\theta_{0} \\right )} + 2 B y \\cos{\\left (\\phi_{0} \\right )} \\cos{\\left (\\theta_{0} \\right )} - 2 B z \\sin{\\left (\\theta_{0} \\right )} + C^{2} - D^{2} - 2 D x \\sin{\\left (\\phi_{0} \\right )} - 2 D y \\cos{\\left (\\phi_{0} \\right )} - x^{2} - y^{2} - z^{2}$$"
      ],
      "text/plain": [
       "   2                                                            2             \n",
       "- A  - 2⋅A⋅B⋅cos(θ₀) + 2⋅A⋅D + 2⋅A⋅x⋅sin(φ₀) + 2⋅A⋅y⋅cos(φ₀) - B  + 2⋅B⋅D⋅cos(\n",
       "\n",
       "                                                                       2    2 \n",
       "θ₀) + 2⋅B⋅x⋅sin(φ₀)⋅cos(θ₀) + 2⋅B⋅y⋅cos(φ₀)⋅cos(θ₀) - 2⋅B⋅z⋅sin(θ₀) + C  - D  \n",
       "\n",
       "                                   2    2    2\n",
       "- 2⋅D⋅x⋅sin(φ₀) - 2⋅D⋅y⋅cos(φ₀) - x  - y  - z "
      ]
     },
     "execution_count": 152,
     "metadata": {},
     "output_type": "execute_result"
    }
   ],
   "source": [
    "# 肘部分と手首の距離はCとして定義していることから\n",
    "# (C_vectors[0] - Bvectors[0]).norm() - C == 0 となります\n",
    "# ただ標準のnormではうまく計算ができなかったので自作した関数を用いてノルム(の2乗)を計算します\n",
    "eq0 = C**2-norm2((C_vectors[0] - B_vectors[0]))\n",
    "eq0 = expand(eq0)\n",
    "eq0 = simplify(eq0)\n",
    "eq0"
   ]
  },
  {
   "cell_type": "code",
   "execution_count": 153,
   "metadata": {
    "collapsed": false
   },
   "outputs": [
    {
     "data": {
      "image/png": "[encoded data removed]",
      "text/latex": [
       "$$P + Q \\sin{\\left (\\theta_{0} \\right )} + R \\cos{\\left (\\theta_{0} \\right )} = 0$$"
      ],
      "text/plain": [
       "P + Q⋅sin(θ₀) + R⋅cos(θ₀) = 0"
      ]
     },
     "execution_count": 153,
     "metadata": {},
     "output_type": "execute_result"
    }
   ],
   "source": [
    "# 先に P + Q * sin(theta_0) + R * cos(theta_0) = 0 の方程式を考える\n",
    "formula = Eq(P + Q * sin(thetas[0]) + R * cos(thetas[0]),0)\n",
    "formula"
   ]
  },
  {
   "cell_type": "code",
   "execution_count": 154,
   "metadata": {
    "collapsed": false
   },
   "outputs": [
    {
     "data": {
      "image/png": "[encoded data removed]",
      "text/latex": [
       "$$P + \\frac{2 Q t}{t^{2} + 1} + \\frac{R \\left(- t^{2} + 1\\right)}{t^{2} + 1} = 0$$"
      ],
      "text/plain": [
       "               ⎛   2    ⎞    \n",
       "    2⋅Q⋅t    R⋅⎝- t  + 1⎠    \n",
       "P + ────── + ──────────── = 0\n",
       "     2           2           \n",
       "    t  + 1      t  + 1       "
      ]
     },
     "execution_count": 154,
     "metadata": {},
     "output_type": "execute_result"
    }
   ],
   "source": [
    "# t = tan(theta_0/2) を代入\n",
    "formula = simplify(formula.subs([(thetas[0],2*atan(t))]))\n",
    "formula"
   ]
  },
  {
   "cell_type": "code",
   "execution_count": 161,
   "metadata": {
    "collapsed": false
   },
   "outputs": [
    {
     "data": {
      "image/png": "[encoded data removed]",
      "text/latex": [
       "$$\\left [ \\frac{1}{P - R} \\left(- Q + \\sqrt{- P^{2} + Q^{2} + R^{2}}\\right), \\quad - \\frac{1}{P - R} \\left(Q + \\sqrt{- P^{2} + Q^{2} + R^{2}}\\right)\\right ]$$"
      ],
      "text/plain": [
       "⎡        ________________   ⎛       ________________⎞ ⎤\n",
       "⎢       ╱    2    2    2    ⎜      ╱    2    2    2 ⎟ ⎥\n",
       "⎢-Q + ╲╱  - P  + Q  + R    -⎝Q + ╲╱  - P  + Q  + R  ⎠ ⎥\n",
       "⎢────────────────────────, ───────────────────────────⎥\n",
       "⎣         P - R                       P - R           ⎦"
      ]
     },
     "execution_count": 161,
     "metadata": {},
     "output_type": "execute_result"
    }
   ],
   "source": [
    "# tについての方程式として解く\n",
    "t_ans = solve(formula,t)\n",
    "t_ans"
   ]
  },
  {
   "cell_type": "code",
   "execution_count": 162,
   "metadata": {
    "collapsed": false
   },
   "outputs": [
    {
     "data": {
      "image/png": "[encoded data removed]",
      "text/latex": [
       "$$\\left [ 2 \\operatorname{atan}{\\left (\\frac{1}{P - R} \\left(- Q + \\sqrt{- P^{2} + Q^{2} + R^{2}}\\right) \\right )}, \\quad - 2 \\operatorname{atan}{\\left (\\frac{1}{P - R} \\left(Q + \\sqrt{- P^{2} + Q^{2} + R^{2}}\\right) \\right )}\\right ]$$"
      ],
      "text/plain": [
       "⎡      ⎛        ________________⎞         ⎛       ________________⎞⎤\n",
       "⎢      ⎜       ╱    2    2    2 ⎟         ⎜      ╱    2    2    2 ⎟⎥\n",
       "⎢      ⎜-Q + ╲╱  - P  + Q  + R  ⎟         ⎜Q + ╲╱  - P  + Q  + R  ⎟⎥\n",
       "⎢2⋅atan⎜────────────────────────⎟, -2⋅atan⎜───────────────────────⎟⎥\n",
       "⎣      ⎝         P - R          ⎠         ⎝         P - R         ⎠⎦"
      ]
     },
     "execution_count": 162,
     "metadata": {},
     "output_type": "execute_result"
    }
   ],
   "source": [
    "# thetaについての解はこうなる\n",
    "theta_ans = [2*atan(val) for val in t_ans]\n",
    "theta_ans"
   ]
  },
  {
   "cell_type": "code",
   "execution_count": 163,
   "metadata": {
    "collapsed": false
   },
   "outputs": [
    {
     "data": {
      "image/png": "[encoded data removed]",
      "text/latex": [
       "$$- A^{2} - 2 A B \\cos{\\left (\\theta_{0} \\right )} + 2 A D + 2 A x \\sin{\\left (\\phi_{0} \\right )} + 2 A y \\cos{\\left (\\phi_{0} \\right )} - B^{2} + 2 B D \\cos{\\left (\\theta_{0} \\right )} + 2 B x \\sin{\\left (\\phi_{0} \\right )} \\cos{\\left (\\theta_{0} \\right )} + 2 B y \\cos{\\left (\\phi_{0} \\right )} \\cos{\\left (\\theta_{0} \\right )} - 2 B z \\sin{\\left (\\theta_{0} \\right )} + C^{2} - D^{2} - 2 D x \\sin{\\left (\\phi_{0} \\right )} - 2 D y \\cos{\\left (\\phi_{0} \\right )} - x^{2} - y^{2} - z^{2}$$"
      ],
      "text/plain": [
       "   2                                                            2             \n",
       "- A  - 2⋅A⋅B⋅cos(θ₀) + 2⋅A⋅D + 2⋅A⋅x⋅sin(φ₀) + 2⋅A⋅y⋅cos(φ₀) - B  + 2⋅B⋅D⋅cos(\n",
       "\n",
       "                                                                       2    2 \n",
       "θ₀) + 2⋅B⋅x⋅sin(φ₀)⋅cos(θ₀) + 2⋅B⋅y⋅cos(φ₀)⋅cos(θ₀) - 2⋅B⋅z⋅sin(θ₀) + C  - D  \n",
       "\n",
       "                                   2    2    2\n",
       "- 2⋅D⋅x⋅sin(φ₀) - 2⋅D⋅y⋅cos(φ₀) - x  - y  - z "
      ]
     },
     "execution_count": 163,
     "metadata": {},
     "output_type": "execute_result"
    }
   ],
   "source": [
    "# P + Q*sin(theta_0) + R*cos(theta_0) = 0 の形を取り出す\n",
    "Q_dash = eq0.coeff(sin(thetas[0]),1)\n",
    "R_dash = eq0.coeff(cos(thetas[0]),1)\n",
    "P_dash = eq0.coeff(cos(thetas[0]),0) - Q_dash * sin(thetas[0])\n",
    "\n",
    "# P + Q*sin(thetas[0])+R*cos(thetas[0])が上のeq0と同じものであるか確認\n",
    "simplify(expand(P_dash + Q_dash*sin(thetas[0])+R_dash*cos(thetas[0]))) "
   ]
  },
  {
   "cell_type": "code",
   "execution_count": 166,
   "metadata": {
    "collapsed": false
   },
   "outputs": [
    {
     "data": {
      "image/png": "[encoded data removed]",
      "text/latex": [
       "$$- A^{2} + 2 A D + 2 A x \\sin{\\left (\\phi_{0} \\right )} + 2 A y \\cos{\\left (\\phi_{0} \\right )} - B^{2} + C^{2} - D^{2} - 2 D x \\sin{\\left (\\phi_{0} \\right )} - 2 D y \\cos{\\left (\\phi_{0} \\right )} - x^{2} - y^{2} - z^{2}$$"
      ],
      "text/plain": [
       "   2                                            2    2    2                   \n",
       "- A  + 2⋅A⋅D + 2⋅A⋅x⋅sin(φ₀) + 2⋅A⋅y⋅cos(φ₀) - B  + C  - D  - 2⋅D⋅x⋅sin(φ₀) - \n",
       "\n",
       "                 2    2    2\n",
       "2⋅D⋅y⋅cos(φ₀) - x  - y  - z "
      ]
     },
     "execution_count": 166,
     "metadata": {},
     "output_type": "execute_result"
    }
   ],
   "source": [
    "P_dash"
   ]
  },
  {
   "cell_type": "code",
   "execution_count": 167,
   "metadata": {
    "collapsed": false
   },
   "outputs": [
    {
     "data": {
      "image/png": "[encoded data removed]",
      "text/latex": [
       "$$- 2 B z$$"
      ],
      "text/plain": [
       "-2⋅B⋅z"
      ]
     },
     "execution_count": 167,
     "metadata": {},
     "output_type": "execute_result"
    }
   ],
   "source": [
    "Q_dash"
   ]
  },
  {
   "cell_type": "code",
   "execution_count": 168,
   "metadata": {
    "collapsed": false
   },
   "outputs": [
    {
     "data": {
      "image/png": "[encoded data removed]",
      "text/latex": [
       "$$- 2 A B + 2 B D + 2 B x \\sin{\\left (\\phi_{0} \\right )} + 2 B y \\cos{\\left (\\phi_{0} \\right )}$$"
      ],
      "text/plain": [
       "-2⋅A⋅B + 2⋅B⋅D + 2⋅B⋅x⋅sin(φ₀) + 2⋅B⋅y⋅cos(φ₀)"
      ]
     },
     "execution_count": 168,
     "metadata": {},
     "output_type": "execute_result"
    }
   ],
   "source": [
    "R_dash"
   ]
  },
  {
   "cell_type": "code",
   "execution_count": 165,
   "metadata": {
    "collapsed": false
   },
   "outputs": [
    {
     "data": {
      "image/png": "[encoded data removed]",
      "text/latex": [
       "$$\\left [ - 2 \\operatorname{atan}{\\left (\\frac{2 B z + \\sqrt{4 B^{2} z^{2} + 4 B^{2} \\left(- A + D + x \\sin{\\left (\\phi_{0} \\right )} + y \\cos{\\left (\\phi_{0} \\right )}\\right)^{2} - \\left(A^{2} - 2 A D - 2 A x \\sin{\\left (\\phi_{0} \\right )} - 2 A y \\cos{\\left (\\phi_{0} \\right )} + B^{2} - C^{2} + D^{2} + 2 D x \\sin{\\left (\\phi_{0} \\right )} + 2 D y \\cos{\\left (\\phi_{0} \\right )} + x^{2} + y^{2} + z^{2}\\right)^{2}}}{A^{2} - 2 A B - 2 A D - 2 A x \\sin{\\left (\\phi_{0} \\right )} - 2 A y \\cos{\\left (\\phi_{0} \\right )} + B^{2} + 2 B D + 2 B x \\sin{\\left (\\phi_{0} \\right )} + 2 B y \\cos{\\left (\\phi_{0} \\right )} - C^{2} + D^{2} + 2 D x \\sin{\\left (\\phi_{0} \\right )} + 2 D y \\cos{\\left (\\phi_{0} \\right )} + x^{2} + y^{2} + z^{2}} \\right )}, \\quad - 2 \\operatorname{atan}{\\left (\\frac{2 B z - \\sqrt{4 B^{2} z^{2} + 4 B^{2} \\left(- A + D + x \\sin{\\left (\\phi_{0} \\right )} + y \\cos{\\left (\\phi_{0} \\right )}\\right)^{2} - \\left(A^{2} - 2 A D - 2 A x \\sin{\\left (\\phi_{0} \\right )} - 2 A y \\cos{\\left (\\phi_{0} \\right )} + B^{2} - C^{2} + D^{2} + 2 D x \\sin{\\left (\\phi_{0} \\right )} + 2 D y \\cos{\\left (\\phi_{0} \\right )} + x^{2} + y^{2} + z^{2}\\right)^{2}}}{A^{2} - 2 A B - 2 A D - 2 A x \\sin{\\left (\\phi_{0} \\right )} - 2 A y \\cos{\\left (\\phi_{0} \\right )} + B^{2} + 2 B D + 2 B x \\sin{\\left (\\phi_{0} \\right )} + 2 B y \\cos{\\left (\\phi_{0} \\right )} - C^{2} + D^{2} + 2 D x \\sin{\\left (\\phi_{0} \\right )} + 2 D y \\cos{\\left (\\phi_{0} \\right )} + x^{2} + y^{2} + z^{2}} \\right )}\\right ]$$"
      ],
      "text/plain": [
       "⎡       ⎛            _________________________________________________________\n",
       "⎢       ⎜           ╱                                                         \n",
       "⎢       ⎜          ╱     2  2      2                                 2   ⎛ 2  \n",
       "⎢       ⎜2⋅B⋅z + ╲╱   4⋅B ⋅z  + 4⋅B ⋅(-A + D + x⋅sin(φ₀) + y⋅cos(φ₀))  - ⎝A  -\n",
       "⎢-2⋅atan⎜─────────────────────────────────────────────────────────────────────\n",
       "⎢       ⎜           2                                                    2    \n",
       "⎣       ⎝          A  - 2⋅A⋅B - 2⋅A⋅D - 2⋅A⋅x⋅sin(φ₀) - 2⋅A⋅y⋅cos(φ₀) + B  + 2\n",
       "\n",
       "______________________________________________________________________________\n",
       "                                                                              \n",
       "                                          2    2    2                         \n",
       " 2⋅A⋅D - 2⋅A⋅x⋅sin(φ₀) - 2⋅A⋅y⋅cos(φ₀) + B  - C  + D  + 2⋅D⋅x⋅sin(φ₀) + 2⋅D⋅y⋅\n",
       "──────────────────────────────────────────────────────────────────────────────\n",
       "                                        2    2                                \n",
       "⋅B⋅D + 2⋅B⋅x⋅sin(φ₀) + 2⋅B⋅y⋅cos(φ₀) - C  + D  + 2⋅D⋅x⋅sin(φ₀) + 2⋅D⋅y⋅cos(φ₀)\n",
       "\n",
       "_________________________⎞         ⎛            ______________________________\n",
       "                       2 ⎟         ⎜           ╱                              \n",
       "           2    2    2⎞  ⎟         ⎜          ╱     2  2      2               \n",
       "cos(φ₀) + x  + y  + z ⎠  ⎟         ⎜2⋅B⋅z - ╲╱   4⋅B ⋅z  + 4⋅B ⋅(-A + D + x⋅si\n",
       "─────────────────────────⎟, -2⋅atan⎜──────────────────────────────────────────\n",
       "    2    2    2          ⎟         ⎜           2                              \n",
       " + x  + y  + z           ⎠         ⎝          A  - 2⋅A⋅B - 2⋅A⋅D - 2⋅A⋅x⋅sin(φ\n",
       "\n",
       "______________________________________________________________________________\n",
       "                                                                              \n",
       "                  2   ⎛ 2                                            2    2   \n",
       "n(φ₀) + y⋅cos(φ₀))  - ⎝A  - 2⋅A⋅D - 2⋅A⋅x⋅sin(φ₀) - 2⋅A⋅y⋅cos(φ₀) + B  - C  + \n",
       "──────────────────────────────────────────────────────────────────────────────\n",
       "                      2                                            2    2     \n",
       "₀) - 2⋅A⋅y⋅cos(φ₀) + B  + 2⋅B⋅D + 2⋅B⋅x⋅sin(φ₀) + 2⋅B⋅y⋅cos(φ₀) - C  + D  + 2⋅\n",
       "\n",
       "____________________________________________________⎞⎤\n",
       "                                                  2 ⎟⎥\n",
       " 2                                    2    2    2⎞  ⎟⎥\n",
       "D  + 2⋅D⋅x⋅sin(φ₀) + 2⋅D⋅y⋅cos(φ₀) + x  + y  + z ⎠  ⎟⎥\n",
       "────────────────────────────────────────────────────⎟⎥\n",
       "                               2    2    2          ⎟⎥\n",
       "D⋅x⋅sin(φ₀) + 2⋅D⋅y⋅cos(φ₀) + x  + y  + z           ⎠⎦"
      ]
     },
     "execution_count": 165,
     "metadata": {},
     "output_type": "execute_result"
    }
   ],
   "source": [
    "# theta_0の解\n",
    "theta_ans = map( lambda val: simplify(val.subs([(P,P_dash),(Q,Q_dash),(R,R_dash)])),theta_ans)\n",
    "theta_ans"
   ]
  },
  {
   "cell_type": "code",
   "execution_count": 197,
   "metadata": {
    "collapsed": false
   },
   "outputs": [
    {
     "data": {
      "image/png": "[encoded data removed]",
      "text/latex": [
       "$$\\left [ 194.47751218593, \\quad 345.52248781407\\right ]$$"
      ],
      "text/plain": [
       "[194.47751218593, 345.52248781407]"
      ]
     },
     "execution_count": 197,
     "metadata": {},
     "output_type": "execute_result"
    }
   ],
   "source": [
    "# サンプル．\n",
    "map(lambda x: x.subs(params)*180/np.pi+360,theta_ans)"
   ]
  },
  {
   "cell_type": "code",
   "execution_count": 193,
   "metadata": {
    "collapsed": false
   },
   "outputs": [
    {
     "data": {
      "image/png": "[encoded data removed]",
      "text/latex": [
       "$$79.0992952568241 - 2.12595997214678 i$$"
      ],
      "text/plain": [
       "79.0992952568241 - 2.12595997214678⋅ⅈ"
      ]
     },
     "execution_count": 193,
     "metadata": {},
     "output_type": "execute_result"
    }
   ],
   "source": [
    "atan(-1j+5).evalf()*180/np.pi"
   ]
  },
  {
   "cell_type": "code",
   "execution_count": 195,
   "metadata": {
    "collapsed": false
   },
   "outputs": [
    {
     "data": {
      "image/png": "[encoded data removed]",
      "text/latex": [
       "$$- \\tan{\\left (\\frac{11 \\pi}{12} \\right )}$$"
      ],
      "text/plain": [
       "    ⎛11⋅π⎞\n",
       "-tan⎜────⎟\n",
       "    ⎝ 12 ⎠"
      ]
     },
     "execution_count": 195,
     "metadata": {},
     "output_type": "execute_result"
    }
   ],
   "source": [
    "tan(-165*pi/180).evalf()"
   ]
  },
  {
   "cell_type": "code",
   "execution_count": null,
   "metadata": {
    "collapsed": true
   },
   "outputs": [],
   "source": []
  }
 ],
 "metadata": {
  "kernelspec": {
   "display_name": "Python 2",
   "language": "python",
   "name": "python2"
  },
  "language_info": {
   "codemirror_mode": {
    "name": "ipython",
    "version": 2
   },
   "file_extension": ".py",
   "mimetype": "text/x-python",
   "name": "python",
   "nbconvert_exporter": "python",
   "pygments_lexer": "ipython2",
   "version": "2.7.11"
  }
 },
 "nbformat": 4,
 "nbformat_minor": 0
}
